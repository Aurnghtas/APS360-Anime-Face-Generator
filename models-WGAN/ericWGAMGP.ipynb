{
 "cells": [
  {
   "cell_type": "code",
   "execution_count": 1,
   "id": "c28602b9-6d6c-4856-a284-5e8c713c5a01",
   "metadata": {},
   "outputs": [],
   "source": [
    "import torch\n",
    "import torch.nn as nn\n",
    "import torch.optim as optim\n",
    "import torchvision\n",
    "import torchvision.datasets as datasets\n",
    "import torchvision.transforms as transforms\n",
    "from torch.utils.data import DataLoader"
   ]
  },
  {
   "cell_type": "code",
   "execution_count": 2,
   "id": "9de45a21-f0c4-4ee5-9a3b-84b4d7aaaeb1",
   "metadata": {},
   "outputs": [],
   "source": [
    "class Discriminator(nn.Module):\n",
    "    def __init__(self, channels_img, features_d):\n",
    "        super(Discriminator, self).__init__()\n",
    "        self.disc = nn.Sequential(\n",
    "            # input: N x channels_img x 64 x 64\n",
    "            nn.Conv2d(channels_img, features_d, kernel_size=4, stride=2, padding=1),\n",
    "            nn.LeakyReLU(0.2),\n",
    "            # _block(in_channels, out_channels, kernel_size, stride, padding)\n",
    "            self._block(features_d, features_d * 2, 4, 2, 1),\n",
    "            self._block(features_d * 2, features_d * 4, 4, 2, 1),\n",
    "            self._block(features_d * 4, features_d * 8, 4, 2, 1),\n",
    "            # After all _block img output is 4x4 (Conv2d below makes into 1x1)\n",
    "            nn.Conv2d(features_d * 8, 1, kernel_size=4, stride=2, padding=0),\n",
    "        )\n",
    "\n",
    "    def _block(self, in_channels, out_channels, kernel_size, stride, padding):\n",
    "        return nn.Sequential(\n",
    "            nn.Conv2d(\n",
    "                in_channels, out_channels, kernel_size, stride, padding, bias=False,\n",
    "            ),\n",
    "            nn.InstanceNorm2d(out_channels, affine=True),\n",
    "            nn.LeakyReLU(0.2),\n",
    "        )\n",
    "\n",
    "    def forward(self, x):\n",
    "        return self.disc(x)\n",
    "\n",
    "\n",
    "class Generator(nn.Module):\n",
    "    def __init__(self, channels_noise, channels_img, features_g):\n",
    "        super(Generator, self).__init__()\n",
    "        self.net = nn.Sequential(\n",
    "            # Input: N x channels_noise x 1 x 1\n",
    "            self._block(channels_noise, features_g * 16, 4, 1, 0),  # img: 4x4\n",
    "            self._block(features_g * 16, features_g * 8, 4, 2, 1),  # img: 8x8\n",
    "            self._block(features_g * 8, features_g * 4, 4, 2, 1),  # img: 16x16\n",
    "            self._block(features_g * 4, features_g * 2, 4, 2, 1),  # img: 32x32\n",
    "            nn.ConvTranspose2d(\n",
    "                features_g * 2, channels_img, kernel_size=4, stride=2, padding=1\n",
    "            ),\n",
    "            # Output: N x channels_img x 64 x 64\n",
    "            nn.Tanh(),\n",
    "        )\n",
    "\n",
    "    def _block(self, in_channels, out_channels, kernel_size, stride, padding):\n",
    "        return nn.Sequential(\n",
    "            nn.ConvTranspose2d(\n",
    "                in_channels, out_channels, kernel_size, stride, padding, bias=False,\n",
    "            ),\n",
    "            nn.BatchNorm2d(out_channels),\n",
    "            nn.ReLU(),\n",
    "        )\n",
    "\n",
    "    def forward(self, x):\n",
    "        return self.net(x)\n",
    "\n",
    "\n",
    "def initialize_weights(model):\n",
    "    # Initializes weights according to the DCGAN paper\n",
    "    for m in model.modules():\n",
    "        if isinstance(m, (nn.Conv2d, nn.ConvTranspose2d, nn.BatchNorm2d)):\n",
    "            nn.init.normal_(m.weight.data, 0.0, 0.02)\n",
    "\n",
    "\n",
    "def test():\n",
    "    N, in_channels, H, W = 8, 3, 64, 64\n",
    "    noise_dim = 100\n",
    "    x = torch.randn((N, in_channels, H, W))\n",
    "    disc = Discriminator(in_channels, 8)\n",
    "    assert disc(x).shape == (N, 1, 1, 1), \"Discriminator test failed\"\n",
    "    gen = Generator(noise_dim, in_channels, 8)\n",
    "    z = torch.randn((N, noise_dim, 1, 1))\n",
    "    assert gen(z).shape == (N, in_channels, H, W), \"Generator test failed\""
   ]
  },
  {
   "cell_type": "code",
   "execution_count": 3,
   "id": "3cd05bc9-3199-45f8-bafe-52f160b9509f",
   "metadata": {},
   "outputs": [],
   "source": [
    "def gradient_penalty(critic, real, fake, device=\"cpu\"):\n",
    "    BATCH_SIZE, C, H, W = real.shape\n",
    "    alpha = torch.rand((BATCH_SIZE, 1, 1, 1)).repeat(1, C, H, W).to(device)\n",
    "    interpolated_images = real * alpha + fake * (1 - alpha)\n",
    "\n",
    "    # Calculate critic scores\n",
    "    mixed_scores = critic(interpolated_images)\n",
    "\n",
    "    # Take the gradient of the scores with respect to the images\n",
    "    gradient = torch.autograd.grad(\n",
    "        inputs=interpolated_images,\n",
    "        outputs=mixed_scores,\n",
    "        grad_outputs=torch.ones_like(mixed_scores),\n",
    "        create_graph=True,\n",
    "        retain_graph=True,\n",
    "    )[0]\n",
    "    gradient = gradient.view(gradient.shape[0], -1)\n",
    "    gradient_norm = gradient.norm(2, dim=1)\n",
    "    gradient_penalty = torch.mean((gradient_norm - 1) ** 2)\n",
    "    return gradient_penalty\n",
    "\n",
    "\n",
    "def save_checkpoint(state, filename=\"celeba_wgan_gp.pth.tar\"):\n",
    "    print(\"=> Saving checkpoint\")\n",
    "    torch.save(state, filename)\n",
    "\n",
    "\n",
    "def load_checkpoint(checkpoint, gen, disc):\n",
    "    print(\"=> Loading checkpoint\")\n",
    "    gen.load_state_dict(checkpoint['gen'])\n",
    "    disc.load_state_dict(checkpoint['disc'])"
   ]
  },
  {
   "cell_type": "code",
   "execution_count": 4,
   "id": "60b43569-5793-4b5b-86f9-3a3b16a0450a",
   "metadata": {},
   "outputs": [
    {
     "name": "stdout",
     "output_type": "stream",
     "text": [
      "cuda\n",
      "Epoch [0/50] Batch 0/337                   Loss D: 71.6867, loss G: -0.1514\n",
      "Epoch [1/50] Batch 0/337                   Loss D: -104.0272, loss G: 115.3705\n",
      "Epoch [2/50] Batch 0/337                   Loss D: -64.5523, loss G: 119.3698\n",
      "Epoch [3/50] Batch 0/337                   Loss D: -56.8613, loss G: 113.5048\n",
      "Epoch [4/50] Batch 0/337                   Loss D: -44.6110, loss G: 95.3973\n",
      "Epoch [5/50] Batch 0/337                   Loss D: -41.2256, loss G: 74.4401\n",
      "Epoch [6/50] Batch 0/337                   Loss D: -24.2741, loss G: 67.4551\n",
      "Epoch [7/50] Batch 0/337                   Loss D: -17.5908, loss G: 62.7501\n",
      "Epoch [8/50] Batch 0/337                   Loss D: -10.3330, loss G: 57.9715\n",
      "Epoch [9/50] Batch 0/337                   Loss D: -13.6826, loss G: 57.6667\n",
      "Epoch [10/50] Batch 0/337                   Loss D: -12.9113, loss G: 53.4827\n",
      "Epoch [11/50] Batch 0/337                   Loss D: -13.9025, loss G: 49.4336\n",
      "Epoch [12/50] Batch 0/337                   Loss D: -14.9602, loss G: 52.9112\n",
      "Epoch [13/50] Batch 0/337                   Loss D: -12.1863, loss G: 50.5483\n",
      "Epoch [14/50] Batch 0/337                   Loss D: -8.5639, loss G: 43.2197\n",
      "Epoch [15/50] Batch 0/337                   Loss D: -10.3728, loss G: 39.4260\n",
      "Epoch [16/50] Batch 0/337                   Loss D: -8.0479, loss G: 43.4146\n",
      "Epoch [17/50] Batch 0/337                   Loss D: -9.8356, loss G: 46.0518\n",
      "Epoch [18/50] Batch 0/337                   Loss D: -8.7154, loss G: 48.5719\n",
      "Epoch [19/50] Batch 0/337                   Loss D: -9.0839, loss G: 47.4111\n",
      "Epoch [20/50] Batch 0/337                   Loss D: -9.2732, loss G: 48.9649\n",
      "Epoch [21/50] Batch 0/337                   Loss D: -9.5495, loss G: 47.7121\n",
      "Epoch [22/50] Batch 0/337                   Loss D: -10.4664, loss G: 56.2303\n",
      "Epoch [23/50] Batch 0/337                   Loss D: -8.6873, loss G: 48.7314\n",
      "Epoch [24/50] Batch 0/337                   Loss D: -7.5060, loss G: 56.4504\n",
      "Epoch [25/50] Batch 0/337                   Loss D: -7.5641, loss G: 59.8110\n",
      "Epoch [26/50] Batch 0/337                   Loss D: -8.7288, loss G: 52.1973\n",
      "Epoch [27/50] Batch 0/337                   Loss D: -9.2404, loss G: 49.5866\n",
      "Epoch [28/50] Batch 0/337                   Loss D: -7.5458, loss G: 65.0519\n",
      "Epoch [29/50] Batch 0/337                   Loss D: -7.0788, loss G: 57.0793\n",
      "Epoch [30/50] Batch 0/337                   Loss D: -8.0561, loss G: 60.1131\n",
      "Epoch [31/50] Batch 0/337                   Loss D: -8.0241, loss G: 58.1830\n",
      "Epoch [32/50] Batch 0/337                   Loss D: -7.9066, loss G: 55.4981\n",
      "Epoch [33/50] Batch 0/337                   Loss D: -6.9857, loss G: 64.6237\n",
      "Epoch [34/50] Batch 0/337                   Loss D: -7.3640, loss G: 59.6182\n",
      "Epoch [35/50] Batch 0/337                   Loss D: -7.4806, loss G: 65.7313\n",
      "Epoch [36/50] Batch 0/337                   Loss D: -7.0047, loss G: 60.4567\n",
      "Epoch [37/50] Batch 0/337                   Loss D: -8.1536, loss G: 65.3614\n",
      "Epoch [38/50] Batch 0/337                   Loss D: -9.1665, loss G: 60.6642\n",
      "Epoch [39/50] Batch 0/337                   Loss D: -9.6661, loss G: 62.5186\n",
      "Epoch [40/50] Batch 0/337                   Loss D: -6.4828, loss G: 63.8603\n",
      "Epoch [41/50] Batch 0/337                   Loss D: -6.5864, loss G: 69.4079\n",
      "Epoch [42/50] Batch 0/337                   Loss D: -6.6208, loss G: 64.3397\n",
      "Epoch [43/50] Batch 0/337                   Loss D: -5.8821, loss G: 67.5623\n",
      "Epoch [44/50] Batch 0/337                   Loss D: -6.5021, loss G: 70.1948\n",
      "Epoch [45/50] Batch 0/337                   Loss D: -5.1382, loss G: 75.5835\n",
      "Epoch [46/50] Batch 0/337                   Loss D: -5.0824, loss G: 79.1757\n",
      "Epoch [47/50] Batch 0/337                   Loss D: -8.2061, loss G: 73.0970\n",
      "Epoch [48/50] Batch 0/337                   Loss D: -6.7923, loss G: 74.7347\n",
      "Epoch [49/50] Batch 0/337                   Loss D: -6.8851, loss G: 70.1484\n"
     ]
    }
   ],
   "source": [
    "# Hyperparameters etc.\n",
    "device = \"cuda\" if torch.cuda.is_available() else \"cpu\"\n",
    "print(device)\n",
    "LEARNING_RATE = 1e-4\n",
    "BATCH_SIZE = 64\n",
    "IMAGE_SIZE = 64\n",
    "CHANNELS_IMG = 3\n",
    "Z_DIM = 100\n",
    "NUM_EPOCHS = 50\n",
    "FEATURES_CRITIC = 16\n",
    "FEATURES_GEN = 16\n",
    "CRITIC_ITERATIONS = 5\n",
    "LAMBDA_GP = 10\n",
    "\n",
    "transforms = transforms.Compose(\n",
    "    [\n",
    "        transforms.Resize(IMAGE_SIZE),\n",
    "        transforms.ToTensor(),\n",
    "        transforms.Normalize(\n",
    "            [0.5 for _ in range(CHANNELS_IMG)], [0.5 for _ in range(CHANNELS_IMG)]),\n",
    "    ]\n",
    ")\n",
    "\n",
    "dataset = datasets.ImageFolder(root='aps360project/', transform=transforms)\n",
    "loader = DataLoader(dataset, batch_size=BATCH_SIZE, shuffle=True)\n",
    "\n",
    "# initialize gen and disc, note: discriminator should be called critic,\n",
    "# according to WGAN paper (since it no longer outputs between [0, 1])\n",
    "gen = Generator(Z_DIM, CHANNELS_IMG, FEATURES_GEN).to(device)\n",
    "critic = Discriminator(CHANNELS_IMG, FEATURES_CRITIC).to(device)\n",
    "initialize_weights(gen)\n",
    "initialize_weights(critic)\n",
    "\n",
    "# initializate optimizer\n",
    "opt_gen = optim.Adam(gen.parameters(), lr=LEARNING_RATE, betas=(0.0, 0.9))\n",
    "opt_critic = optim.Adam(critic.parameters(), lr=LEARNING_RATE, betas=(0.0, 0.9))\n",
    "\n",
    "# for tensorboard plotting\n",
    "fixed_noise = torch.randn(32, Z_DIM, 1, 1).to(device)\n",
    "step = 0\n",
    "\n",
    "gen.train()\n",
    "critic.train()\n",
    "\n",
    "lossG = []\n",
    "lossC = []\n",
    "iters = []\n",
    "\n",
    "for epoch in range(NUM_EPOCHS):\n",
    "    # Target labels not needed! <3 unsupervised\n",
    "    for batch_idx, (real, _) in enumerate(loader):\n",
    "        real = real.to(device)\n",
    "        cur_batch_size = real.shape[0]\n",
    "\n",
    "        # Train Critic: max E[critic(real)] - E[critic(fake)]\n",
    "        # equivalent to minimizing the negative of that\n",
    "        for _ in range(CRITIC_ITERATIONS):\n",
    "            noise = torch.randn(cur_batch_size, Z_DIM, 1, 1).to(device)\n",
    "            fake = gen(noise)\n",
    "            critic_real = critic(real).reshape(-1)\n",
    "            critic_fake = critic(fake).reshape(-1)\n",
    "            gp = gradient_penalty(critic, real, fake, device=device)\n",
    "            loss_critic = (\n",
    "                -(torch.mean(critic_real) - torch.mean(critic_fake)) + LAMBDA_GP * gp\n",
    "            )\n",
    "            critic.zero_grad()\n",
    "            loss_critic.backward(retain_graph=True)\n",
    "            opt_critic.step()\n",
    "\n",
    "        # Train Generator: max E[critic(gen_fake)] <-> min -E[critic(gen_fake)]\n",
    "        gen_fake = critic(fake).reshape(-1)\n",
    "        loss_gen = -torch.mean(gen_fake)\n",
    "        \n",
    "        lossG.append(float(loss_gen))\n",
    "        lossC.append(float(loss_critic))\n",
    "        iters.append(epoch)\n",
    "        \n",
    "        gen.zero_grad()\n",
    "        loss_gen.backward()\n",
    "        opt_gen.step()\n",
    "\n",
    "        # Print losses occasionally and print to tensorboard\n",
    "        if batch_idx == 0:\n",
    "            print(\n",
    "                f\"Epoch [{epoch}/{NUM_EPOCHS}] Batch {batch_idx}/{len(loader)} \\\n",
    "                  Loss D: {loss_critic:.4f}, loss G: {loss_gen:.4f}\"\n",
    "            )"
   ]
  },
  {
   "cell_type": "code",
   "execution_count": 7,
   "id": "21225c01-92c8-4bab-b160-624014e9f4d9",
   "metadata": {},
   "outputs": [
    {
     "name": "stderr",
     "output_type": "stream",
     "text": [
      "Clipping input data to the valid range for imshow with RGB data ([0..1] for floats or [0..255] for integers).\n"
     ]
    },
    {
     "name": "stdout",
     "output_type": "stream",
     "text": [
      "torch.Size([32, 3, 64, 64])\n"
     ]
    },
    {
     "data": {
      "text/plain": [
       "<matplotlib.image.AxesImage at 0x1df727bb910>"
      ]
     },
     "execution_count": 7,
     "metadata": {},
     "output_type": "execute_result"
    },
    {
     "data": {
      "image/png": "[encoded data removed]",
      "text/plain": [
       "<Figure size 432x288 with 1 Axes>"
      ]
     },
     "metadata": {
      "needs_background": "light"
     },
     "output_type": "display_data"
    }
   ],
   "source": [
    "import matplotlib.pyplot as plt\n",
    "fake = gen(torch.randn(32, Z_DIM, 1, 1).to(device)).reshape(-1, 3, 64, 64)\n",
    "print(fake.shape)\n",
    "a = fake[-1].detach().cpu()\n",
    "torch.save(a, \"pp1.png\")\n",
    "plt.imshow(a.permute(1, 2, 0))"
   ]
  },
  {
   "cell_type": "code",
   "execution_count": 28,
   "id": "22511f80-2ced-49b1-84ba-f5189ba54096",
   "metadata": {},
   "outputs": [],
   "source": [
    "torch.save(gen.state_dict(), \"gen_best_alt.pt\")"
   ]
  },
  {
   "cell_type": "code",
   "execution_count": 12,
   "id": "cf74ee09-0d06-4c96-8b86-097ac4e2a480",
   "metadata": {},
   "outputs": [
    {
     "data": {
      "image/png": "[encoded data removed]",
      "text/plain": [
       "<Figure size 432x288 with 1 Axes>"
      ]
     },
     "metadata": {
      "needs_background": "light"
     },
     "output_type": "display_data"
    }
   ],
   "source": [
    "import matplotlib.pyplot as plt\n",
    "\n",
    "plt.title(\"Wasserstein Loss Curve\")\n",
    "plt.plot(iters, lossG, label=\"Generator\")\n",
    "plt.plot(iters, lossC, label=\"Critic\")\n",
    "plt.xlabel(\"Iterations\")\n",
    "plt.ylabel(\"Loss\")\n",
    "plt.legend(loc='best')\n",
    "plt.show()"
   ]
  },
  {
   "cell_type": "code",
   "execution_count": null,
   "id": "495e8262-3853-453a-aca9-47a8b3c209db",
   "metadata": {},
   "outputs": [],
   "source": []
  }
 ],
 "metadata": {
  "kernelspec": {
   "display_name": "Python 3",
   "language": "python",
   "name": "python3"
  },
  "language_info": {
   "codemirror_mode": {
    "name": "ipython",
    "version": 3
   },
   "file_extension": ".py",
   "mimetype": "text/x-python",
   "name": "python",
   "nbconvert_exporter": "python",
   "pygments_lexer": "ipython3",
   "version": "3.8.8"
  }
 },
 "nbformat": 4,
 "nbformat_minor": 5
}
